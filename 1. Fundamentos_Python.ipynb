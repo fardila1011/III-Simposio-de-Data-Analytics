{
 "cells": [
  {
   "cell_type": "markdown",
   "metadata": {},
   "source": [
    "# Actividad 1 - Fundamentos de Python \n",
    "\n",
    "- Autor: Rodrigo Salas, Dr. Ing. \n",
    "- e-mail: rodrigo.salas@uv.cl\n"
   ]
  },
  {
   "cell_type": "markdown",
   "metadata": {},
   "source": [
    "## 1. Operadores"
   ]
  },
  {
   "cell_type": "markdown",
   "metadata": {},
   "source": [
    "**Operadores Aritméticos**\n",
    "\n",
    "| Símbolo | Significado       |\n",
    "|---------|-------------------|\n",
    "|   +     | Suma              |\n",
    "|   -     | Resta             |\n",
    "|   -     | Negativo          |\n",
    "|   *     | Multiplicación    |\n",
    "|   **    | Exponente         |\n",
    "|   /     | División          |\n",
    "|   //    | División entera   |\n",
    "|   %     | Módulo            |"
   ]
  },
  {
   "cell_type": "markdown",
   "metadata": {},
   "source": [
    "**Ejemplo 1:** Solicitar que el usuario ingrese dos números y entregar los resultados de los diferentes operadores"
   ]
  },
  {
   "cell_type": "code",
   "execution_count": 1,
   "metadata": {},
   "outputs": [
    {
     "name": "stdin",
     "output_type": "stream",
     "text": [
      "Ingrese un número:  3\n",
      "Ingrese un número:  2\n"
     ]
    },
    {
     "name": "stdout",
     "output_type": "stream",
     "text": [
      "Suma =  5\n",
      "Resta =  1\n",
      "Multiplicación =  6\n",
      "División =  1.5\n",
      "Exponente =  9\n",
      "División entera =  1\n",
      "Módulo =  1\n"
     ]
    }
   ],
   "source": [
    "n1 = int(input(\"Ingrese un número: \"))\n",
    "n2 = int(input(\"Ingrese un número: \"))\n",
    "print(\"Suma = \", n1 + n2)\n",
    "print(\"Resta = \", n1 - n2)\n",
    "print(\"Multiplicación = \", n1 * n2)\n",
    "print(\"División = \", n1 / n2)\n",
    "print(\"Exponente = \", n1 ** n2)\n",
    "print(\"División entera = \", n1 // n2)\n",
    "print(\"Módulo = \", n1 % n2)"
   ]
  },
  {
   "cell_type": "markdown",
   "metadata": {},
   "source": [
    "**Ejercicio 1:** Dado dos número ingresados por el usuario escribir el resultado de la división con una parte entera y con la parte fraccional.\n",
    "\n",
    "$$ 17/2 = 8 \\frac{1}{2} $$\n"
   ]
  },
  {
   "cell_type": "code",
   "execution_count": 19,
   "metadata": {},
   "outputs": [
    {
     "name": "stdin",
     "output_type": "stream",
     "text": [
      "Ingrese un número:  19\n",
      "Ingrese un número:  5\n"
     ]
    },
    {
     "name": "stdout",
     "output_type": "stream",
     "text": [
      "19/5 = 3 4/5\n"
     ]
    }
   ],
   "source": [
    "n1 = int(input(\"Ingrese un número: \"))\n",
    "n2 = int(input(\"Ingrese un número: \"))\n",
    "\n",
    "pe = n1 // n2\n",
    "pf = (n1 - (pe * n2)) % n2\n",
    "\n",
    "print(str(n1) + \"/\" + str(n2) + \" = \" + str(pe) + \" \" + str(pf) + \"/\" + str(n2))"
   ]
  },
  {
   "cell_type": "markdown",
   "metadata": {},
   "source": [
    "**Operadores de relación:**\n",
    "\n",
    "| Símbolo | Significado       |\n",
    "|---------|-------------------|\n",
    "|   ==    | Igual que         |\n",
    "|   !=    | Distinto que      |\n",
    "|   <     | Menor que         |\n",
    "|   >     | Mayor que         |\n",
    "|   <=    | Menor o igual que |\n",
    "|   >=    | Mayor o igual que |\n",
    "\n",
    "**Operadores Lógicos**\n",
    "\n",
    "| Símbolo   |\n",
    "|-----------|\n",
    "|   and     |\n",
    "|   or      |\n",
    "|   not     |\n",
    "|   ^ xor   |\n",
    "\n",
    "**Tabla de Valores**\n",
    "\n",
    "| and | False | True  |\n",
    "|-----|-------|-------|\n",
    "|False| False | False |\n",
    "|True | False | True  |\n",
    "\n",
    "|  or | False | True  |\n",
    "|-----|-------|-------|\n",
    "|False| False | True  |\n",
    "|True | True  | True  |\n",
    "\n",
    "| not |       |\n",
    "|-----|-------|\n",
    "|False| Ture  |\n",
    "|True | False |\n",
    "\n",
    "| xor | False | True  |\n",
    "|-----|-------|-------|\n",
    "|False| False | True  |\n",
    "|True | True  | False |"
   ]
  },
  {
   "cell_type": "markdown",
   "metadata": {},
   "source": [
    "**Ejemplo 2:** Solicitar al usuario que ingrese valores lógicos aplicar los operadores lógicos"
   ]
  },
  {
   "cell_type": "code",
   "execution_count": null,
   "metadata": {},
   "outputs": [],
   "source": [
    "p = bool(int(input(\"Ingrese 0 (Falso) o 1 (Verdadero) :\")))\n",
    "q = bool(int(input(\"Ingrese 0 (Falso) o 1 (Verdadero) :\")))\n",
    "print(\"p =\",p, \" not p = \", not p)\n",
    "print(\"q =\",q, \" not q = \", not q)\n",
    "print(p,\" and \", q, \" es \", p and q)\n",
    "print(p,\" or \", q, \" es \", p or q)\n",
    "print(p,\" xor \", q, \" es \", p ^ q)"
   ]
  },
  {
   "cell_type": "markdown",
   "metadata": {},
   "source": [
    "**Ejercicio 2:** Determinar el valor de verdad de ***(p and q) or (not p and q)*** para p y q ingresados por el usuario"
   ]
  },
  {
   "cell_type": "code",
   "execution_count": null,
   "metadata": {},
   "outputs": [],
   "source": [
    "p = bool(int(input(\"Ingrese 0 (Falso) o 1 (Verdadero) :\")))\n",
    "q = bool(int(input(\"Ingrese 0 (Falso) o 1 (Verdadero) :\")))\n",
    "\n",
    "print(\"-> \" + str((p and q) or (not p and q)))"
   ]
  },
  {
   "cell_type": "markdown",
   "metadata": {},
   "source": [
    "## 2. Estructuras de Control\n",
    "\n",
    "Una estructira de control es un bloque de código que permite agrupar instrucciones.\n",
    "\n",
    "Se tiene dos tipos de estructuras de control:\n",
    "- Estructuras de control condicionales\n",
    "- Estructuras de control iterativas\n",
    "\n",
    "En python, los bloques de código se identifican con la **identación** que consiste en 4 espacios en blanco. Esta identación indicará que las instrucciones forman parte de una misma estructura de control.\n",
    "\n",
    "La estructura de control tiene la siguiente forma"
   ]
  },
  {
   "cell_type": "raw",
   "metadata": {},
   "source": [
    "estructura_control condicion:\n",
    "    expresiones"
   ]
  },
  {
   "cell_type": "markdown",
   "metadata": {},
   "source": [
    "### 2.1 Estructuras de control condicionales\n",
    "\n",
    "Las estructuras de control condicionales son aquellas que permiten evaluar evaluar si se cumple una condición y de esta forma decidir qué acción ejecutar."
   ]
  },
  {
   "cell_type": "markdown",
   "metadata": {},
   "source": [
    "La estructura selectiva si entonces permite que el flujo del diagrama siga por un camino específico si se cumple una condición o conjunto de condiciones. Si al evaluar la condición (o condiciones) el resultado es verdadero, entonces se ejecuta (n) cierta (s) operación (es). Luego continúa con la secuencia normal del diagrama.\n",
    "\n",
    "<img src=\"if-then.jpg\">"
   ]
  },
  {
   "cell_type": "markdown",
   "metadata": {},
   "source": [
    "**Ejemplo 3:** EL costo de inscripción a un curso de verano es de $5000, sin embargo si la persona tiene carnet de estudiante, entonces se le aplica un descuento del 20%. Mostrar el monto total a pagar."
   ]
  },
  {
   "cell_type": "code",
   "execution_count": null,
   "metadata": {},
   "outputs": [],
   "source": [
    "costo_curso = 5000\n",
    "c = input(\"Tiene Ud. Carnet de estudiante? (S/N)\")\n",
    "if c == 'S':\n",
    "    descuento = 5000*0.2\n",
    "    costo_curso = 5000 - descuento\n",
    "print(\"El costo del curso es:\", costo_curso)"
   ]
  },
  {
   "cell_type": "markdown",
   "metadata": {},
   "source": [
    "La estructura selectiva si entonces/sino permite que el flujo del diagrama se bifurque por dos ramas diferentes en el punto de la toma de decisión(es). Si al evaluar la condición (o condiciones) el resultado es verdadero, entonces se sigue por un camino específico y se ejecuta(n) cierta(s) operación(es). SI el resultado es falso entonces se sigue por otro camino y se ejecuta(n) otra(s) operación(es).\n",
    "\n",
    "<img src=\"if-then-else.png\">"
   ]
  },
  {
   "cell_type": "markdown",
   "metadata": {},
   "source": [
    "**Ejemplo 4:** Dada la nota final del estudiante indicar si el estudiante aprobó la asignatura con nota superior o igual a 4.0 o reprobó la asignatura con nota inferior a 4.0"
   ]
  },
  {
   "cell_type": "code",
   "execution_count": null,
   "metadata": {},
   "outputs": [],
   "source": [
    "nota_final = float(input(\"Ingrese Nota Final:\"))\n",
    "if nota_final >= 4.0:\n",
    "    print(\"Es estudiante aprobó la asignatura\")\n",
    "else:\n",
    "    print(\"Es estudiante reaprobó la asignatura\")"
   ]
  },
  {
   "cell_type": "markdown",
   "metadata": {},
   "source": [
    "### 2.2 Estructuras de Control Iterativas o bucles"
   ]
  },
  {
   "cell_type": "markdown",
   "metadata": {},
   "source": [
    "Estructura de control **while**\n",
    "Podemos ver que primero se evalúa la condición. Si ésta resulta falsa, la instrucción termina. Sin embargo, si resulta verdadera el cuerpo se ejecuta, y posteriormente se vuelve a evaluar la condición. Esto se repite efectivamente mientras la condición siga dando un valor de verdadero\n",
    "\n",
    "<img src=\"while.png\">"
   ]
  },
  {
   "cell_type": "markdown",
   "metadata": {},
   "source": [
    "**Ejemplo 5:** Realizar una programa donde el usuario ingresa número enteros hasta que la suma de los números ingresados sea superior a 100"
   ]
  },
  {
   "cell_type": "code",
   "execution_count": 15,
   "metadata": {},
   "outputs": [
    {
     "ename": "KeyboardInterrupt",
     "evalue": "",
     "output_type": "error",
     "traceback": [
      "\u001b[0;31m---------------------------------------------------------------------------\u001b[0m",
      "\u001b[0;31mKeyboardInterrupt\u001b[0m                         Traceback (most recent call last)",
      "\u001b[0;32m//anaconda3/lib/python3.7/site-packages/ipykernel/kernelbase.py\u001b[0m in \u001b[0;36m_input_request\u001b[0;34m(self, prompt, ident, parent, password)\u001b[0m\n\u001b[1;32m    884\u001b[0m             \u001b[0;32mtry\u001b[0m\u001b[0;34m:\u001b[0m\u001b[0;34m\u001b[0m\u001b[0;34m\u001b[0m\u001b[0m\n\u001b[0;32m--> 885\u001b[0;31m                 \u001b[0mident\u001b[0m\u001b[0;34m,\u001b[0m \u001b[0mreply\u001b[0m \u001b[0;34m=\u001b[0m \u001b[0mself\u001b[0m\u001b[0;34m.\u001b[0m\u001b[0msession\u001b[0m\u001b[0;34m.\u001b[0m\u001b[0mrecv\u001b[0m\u001b[0;34m(\u001b[0m\u001b[0mself\u001b[0m\u001b[0;34m.\u001b[0m\u001b[0mstdin_socket\u001b[0m\u001b[0;34m,\u001b[0m \u001b[0;36m0\u001b[0m\u001b[0;34m)\u001b[0m\u001b[0;34m\u001b[0m\u001b[0;34m\u001b[0m\u001b[0m\n\u001b[0m\u001b[1;32m    886\u001b[0m             \u001b[0;32mexcept\u001b[0m \u001b[0mException\u001b[0m\u001b[0;34m:\u001b[0m\u001b[0;34m\u001b[0m\u001b[0;34m\u001b[0m\u001b[0m\n",
      "\u001b[0;32m//anaconda3/lib/python3.7/site-packages/jupyter_client/session.py\u001b[0m in \u001b[0;36mrecv\u001b[0;34m(self, socket, mode, content, copy)\u001b[0m\n\u001b[1;32m    802\u001b[0m         \u001b[0;32mtry\u001b[0m\u001b[0;34m:\u001b[0m\u001b[0;34m\u001b[0m\u001b[0;34m\u001b[0m\u001b[0m\n\u001b[0;32m--> 803\u001b[0;31m             \u001b[0mmsg_list\u001b[0m \u001b[0;34m=\u001b[0m \u001b[0msocket\u001b[0m\u001b[0;34m.\u001b[0m\u001b[0mrecv_multipart\u001b[0m\u001b[0;34m(\u001b[0m\u001b[0mmode\u001b[0m\u001b[0;34m,\u001b[0m \u001b[0mcopy\u001b[0m\u001b[0;34m=\u001b[0m\u001b[0mcopy\u001b[0m\u001b[0;34m)\u001b[0m\u001b[0;34m\u001b[0m\u001b[0;34m\u001b[0m\u001b[0m\n\u001b[0m\u001b[1;32m    804\u001b[0m         \u001b[0;32mexcept\u001b[0m \u001b[0mzmq\u001b[0m\u001b[0;34m.\u001b[0m\u001b[0mZMQError\u001b[0m \u001b[0;32mas\u001b[0m \u001b[0me\u001b[0m\u001b[0;34m:\u001b[0m\u001b[0;34m\u001b[0m\u001b[0;34m\u001b[0m\u001b[0m\n",
      "\u001b[0;32m//anaconda3/lib/python3.7/site-packages/zmq/sugar/socket.py\u001b[0m in \u001b[0;36mrecv_multipart\u001b[0;34m(self, flags, copy, track)\u001b[0m\n\u001b[1;32m    474\u001b[0m         \"\"\"\n\u001b[0;32m--> 475\u001b[0;31m         \u001b[0mparts\u001b[0m \u001b[0;34m=\u001b[0m \u001b[0;34m[\u001b[0m\u001b[0mself\u001b[0m\u001b[0;34m.\u001b[0m\u001b[0mrecv\u001b[0m\u001b[0;34m(\u001b[0m\u001b[0mflags\u001b[0m\u001b[0;34m,\u001b[0m \u001b[0mcopy\u001b[0m\u001b[0;34m=\u001b[0m\u001b[0mcopy\u001b[0m\u001b[0;34m,\u001b[0m \u001b[0mtrack\u001b[0m\u001b[0;34m=\u001b[0m\u001b[0mtrack\u001b[0m\u001b[0;34m)\u001b[0m\u001b[0;34m]\u001b[0m\u001b[0;34m\u001b[0m\u001b[0;34m\u001b[0m\u001b[0m\n\u001b[0m\u001b[1;32m    476\u001b[0m         \u001b[0;31m# have first part already, only loop while more to receive\u001b[0m\u001b[0;34m\u001b[0m\u001b[0;34m\u001b[0m\u001b[0;34m\u001b[0m\u001b[0m\n",
      "\u001b[0;32mzmq/backend/cython/socket.pyx\u001b[0m in \u001b[0;36mzmq.backend.cython.socket.Socket.recv\u001b[0;34m()\u001b[0m\n",
      "\u001b[0;32mzmq/backend/cython/socket.pyx\u001b[0m in \u001b[0;36mzmq.backend.cython.socket.Socket.recv\u001b[0;34m()\u001b[0m\n",
      "\u001b[0;32mzmq/backend/cython/socket.pyx\u001b[0m in \u001b[0;36mzmq.backend.cython.socket._recv_copy\u001b[0;34m()\u001b[0m\n",
      "\u001b[0;32m//anaconda3/lib/python3.7/site-packages/zmq/backend/cython/checkrc.pxd\u001b[0m in \u001b[0;36mzmq.backend.cython.checkrc._check_rc\u001b[0;34m()\u001b[0m\n",
      "\u001b[0;31mKeyboardInterrupt\u001b[0m: ",
      "\nDuring handling of the above exception, another exception occurred:\n",
      "\u001b[0;31mKeyboardInterrupt\u001b[0m                         Traceback (most recent call last)",
      "\u001b[0;32m<ipython-input-15-d8d84af70e52>\u001b[0m in \u001b[0;36m<module>\u001b[0;34m\u001b[0m\n\u001b[1;32m      1\u001b[0m \u001b[0mS\u001b[0m \u001b[0;34m=\u001b[0m \u001b[0;36m0\u001b[0m\u001b[0;34m\u001b[0m\u001b[0;34m\u001b[0m\u001b[0m\n\u001b[1;32m      2\u001b[0m \u001b[0;32mwhile\u001b[0m \u001b[0mS\u001b[0m\u001b[0;34m<=\u001b[0m\u001b[0;36m100\u001b[0m\u001b[0;34m:\u001b[0m\u001b[0;34m\u001b[0m\u001b[0;34m\u001b[0m\u001b[0m\n\u001b[0;32m----> 3\u001b[0;31m     \u001b[0mn\u001b[0m \u001b[0;34m=\u001b[0m \u001b[0mint\u001b[0m\u001b[0;34m(\u001b[0m\u001b[0minput\u001b[0m\u001b[0;34m(\u001b[0m\u001b[0;34m\"Ingrese un número:\"\u001b[0m\u001b[0;34m)\u001b[0m\u001b[0;34m)\u001b[0m\u001b[0;34m\u001b[0m\u001b[0;34m\u001b[0m\u001b[0m\n\u001b[0m\u001b[1;32m      4\u001b[0m     \u001b[0mS\u001b[0m \u001b[0;34m=\u001b[0m \u001b[0mS\u001b[0m \u001b[0;34m+\u001b[0m \u001b[0mn\u001b[0m\u001b[0;34m\u001b[0m\u001b[0;34m\u001b[0m\u001b[0m\n\u001b[1;32m      5\u001b[0m \u001b[0mprint\u001b[0m\u001b[0;34m(\u001b[0m\u001b[0;34m'La suma total es '\u001b[0m\u001b[0;34m,\u001b[0m \u001b[0mS\u001b[0m\u001b[0;34m)\u001b[0m\u001b[0;34m\u001b[0m\u001b[0;34m\u001b[0m\u001b[0m\n",
      "\u001b[0;32m//anaconda3/lib/python3.7/site-packages/ipykernel/kernelbase.py\u001b[0m in \u001b[0;36mraw_input\u001b[0;34m(self, prompt)\u001b[0m\n\u001b[1;32m    858\u001b[0m             \u001b[0mself\u001b[0m\u001b[0;34m.\u001b[0m\u001b[0m_parent_ident\u001b[0m\u001b[0;34m,\u001b[0m\u001b[0;34m\u001b[0m\u001b[0;34m\u001b[0m\u001b[0m\n\u001b[1;32m    859\u001b[0m             \u001b[0mself\u001b[0m\u001b[0;34m.\u001b[0m\u001b[0m_parent_header\u001b[0m\u001b[0;34m,\u001b[0m\u001b[0;34m\u001b[0m\u001b[0;34m\u001b[0m\u001b[0m\n\u001b[0;32m--> 860\u001b[0;31m             \u001b[0mpassword\u001b[0m\u001b[0;34m=\u001b[0m\u001b[0;32mFalse\u001b[0m\u001b[0;34m,\u001b[0m\u001b[0;34m\u001b[0m\u001b[0;34m\u001b[0m\u001b[0m\n\u001b[0m\u001b[1;32m    861\u001b[0m         )\n\u001b[1;32m    862\u001b[0m \u001b[0;34m\u001b[0m\u001b[0m\n",
      "\u001b[0;32m//anaconda3/lib/python3.7/site-packages/ipykernel/kernelbase.py\u001b[0m in \u001b[0;36m_input_request\u001b[0;34m(self, prompt, ident, parent, password)\u001b[0m\n\u001b[1;32m    888\u001b[0m             \u001b[0;32mexcept\u001b[0m \u001b[0mKeyboardInterrupt\u001b[0m\u001b[0;34m:\u001b[0m\u001b[0;34m\u001b[0m\u001b[0;34m\u001b[0m\u001b[0m\n\u001b[1;32m    889\u001b[0m                 \u001b[0;31m# re-raise KeyboardInterrupt, to truncate traceback\u001b[0m\u001b[0;34m\u001b[0m\u001b[0;34m\u001b[0m\u001b[0;34m\u001b[0m\u001b[0m\n\u001b[0;32m--> 890\u001b[0;31m                 \u001b[0;32mraise\u001b[0m \u001b[0mKeyboardInterrupt\u001b[0m\u001b[0;34m\u001b[0m\u001b[0;34m\u001b[0m\u001b[0m\n\u001b[0m\u001b[1;32m    891\u001b[0m             \u001b[0;32melse\u001b[0m\u001b[0;34m:\u001b[0m\u001b[0;34m\u001b[0m\u001b[0;34m\u001b[0m\u001b[0m\n\u001b[1;32m    892\u001b[0m                 \u001b[0;32mbreak\u001b[0m\u001b[0;34m\u001b[0m\u001b[0;34m\u001b[0m\u001b[0m\n",
      "\u001b[0;31mKeyboardInterrupt\u001b[0m: "
     ]
    }
   ],
   "source": [
    "S = 0\n",
    "while S<=100:\n",
    "    n = int(input(\"Ingrese un número:\"))\n",
    "    S = S + n\n",
    "print('La suma total es ', S)"
   ]
  },
  {
   "cell_type": "markdown",
   "metadata": {},
   "source": [
    "El bucle **for** permite iterar un número definido de veces\n",
    "\n",
    "\n",
    "<img src=\"for.gif\">\n"
   ]
  },
  {
   "cell_type": "markdown",
   "metadata": {},
   "source": [
    "**Ejemplo 6:** Escribir los primeros n números de Fibonacci"
   ]
  },
  {
   "cell_type": "code",
   "execution_count": null,
   "metadata": {},
   "outputs": [],
   "source": [
    "n = int(input(\"Ingrese la cantidad de términos\"))\n",
    "x1 = 1\n",
    "x2 = 1\n",
    "print(\"Término 1: \",x1)\n",
    "if n>=2:\n",
    "    print(\"Término 2: \",x2)\n",
    "for i in range(3,n+1):\n",
    "    temp = x2\n",
    "    x2 = x1 + x2\n",
    "    x1 = temp\n",
    "    print(\"Término\",i,\": \",x2)"
   ]
  },
  {
   "cell_type": "markdown",
   "metadata": {},
   "source": [
    "## Gráficos"
   ]
  },
  {
   "cell_type": "markdown",
   "metadata": {},
   "source": [
    "**Ejemplo 7:** Graficar las siguientes ecuaciones paramétricas\n",
    "\n",
    "$$x(t) = 16\\sin^3(t)$$\n",
    "\n",
    "$$y(t) = 13\\cos(t) - 5\\cos(2t) - 2\\cos(3t) - cos(4t)$$\n",
    "\n",
    "para $t \\in [0,2\\pi]$"
   ]
  },
  {
   "cell_type": "code",
   "execution_count": null,
   "metadata": {},
   "outputs": [],
   "source": [
    "import matplotlib.pyplot as plt\n",
    "import numpy as np\n",
    "%matplotlib inline"
   ]
  },
  {
   "cell_type": "code",
   "execution_count": null,
   "metadata": {},
   "outputs": [],
   "source": [
    "t = np.arange(0,2*np.pi, 0.1)\n",
    "x = 16*np.sin(t)**3\n",
    "y = 13*np.cos(t)-5*np.cos(2*t)-2*np.cos(3*t)-np.cos(4*t)\n",
    "plt.plot(x,y)"
   ]
  },
  {
   "cell_type": "markdown",
   "metadata": {},
   "source": [
    "# Referencias\n",
    "- https://uniwebsidad.com/libros/python/capitulo-2/estructuras-de-control-de-flujo\n",
    "- http://www.uacj.mx/CGTI/CDTE/JPM/Documents/IIT/selectivas/selectiva-doble-si-entoncessino.html\n",
    "- Cairó, O. (2005). Metodología de la programación. Algoritmos, diagramas de flujo y programas. 3ª. Edición. México: Alfaomega."
   ]
  }
 ],
 "metadata": {
  "kernelspec": {
   "display_name": "Python 3",
   "language": "python",
   "name": "python3"
  },
  "language_info": {
   "codemirror_mode": {
    "name": "ipython",
    "version": 3
   },
   "file_extension": ".py",
   "mimetype": "text/x-python",
   "name": "python",
   "nbconvert_exporter": "python",
   "pygments_lexer": "ipython3",
   "version": "3.7.4"
  }
 },
 "nbformat": 4,
 "nbformat_minor": 4
}
