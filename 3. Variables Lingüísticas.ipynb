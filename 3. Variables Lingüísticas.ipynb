{
 "cells": [
  {
   "cell_type": "markdown",
   "metadata": {},
   "source": [
    "# 3. Variables Lingüísticas\n",
    "\n",
    "- Autor: Rodrigo Salas, Dr. Ing.\n",
    "- e-mail: rodrigo.salas@uv.cl"
   ]
  },
  {
   "cell_type": "code",
   "execution_count": null,
   "metadata": {},
   "outputs": [],
   "source": [
    "import numpy as np\n",
    "import matplotlib.pyplot as plt\n",
    "from itertools import repeat\n",
    "%matplotlib inline"
   ]
  },
  {
   "cell_type": "markdown",
   "metadata": {},
   "source": [
    "## 3.1 Funciones de Pertenencia\n",
    "\n",
    "**Función de Pertenencia Trapezoidal:**\n",
    "\n",
    "$$\\mu_{trap}(x;a,b,c,d)=\\left\\{\\begin{array}{ll}\n",
    "0 \\qquad & \\mbox{si } x\\leq a\\\\\n",
    "\\frac{x-a}{b-a} \\qquad & \\mbox{si } a \\leq x\\leq b\\\\\n",
    "1 & \\mbox{si } b \\leq x\\leq c\\\\\n",
    "\\frac{d-x}{d-c} \\qquad & \\mbox{si } c \\leq x\\leq d\\\\\n",
    "0 \\qquad & \\mbox{si } x\\geq d\\\\\n",
    "\\end{array}\\right.$$"
   ]
  },
  {
   "cell_type": "code",
   "execution_count": null,
   "metadata": {},
   "outputs": [],
   "source": [
    "def mu_trap(x,a,b,c,d):\n",
    "    mx = []\n",
    "    for xi in x:\n",
    "        if xi<=a:\n",
    "            mx.append(0)\n",
    "        elif xi<=b:\n",
    "            mx.append((xi-a)/(b-a))\n",
    "        elif xi<=c:\n",
    "            mx.append(1)\n",
    "        elif xi<=d:\n",
    "            mx.append((d-xi)/(d-c))\n",
    "        else:\n",
    "            mx.append(0)\n",
    "    return mx"
   ]
  },
  {
   "cell_type": "code",
   "execution_count": null,
   "metadata": {},
   "outputs": [],
   "source": [
    "x = np.arange(0,120,2)\n",
    "mx = mu_trap(x,10,20,60,95)"
   ]
  },
  {
   "cell_type": "code",
   "execution_count": null,
   "metadata": {},
   "outputs": [],
   "source": [
    "plt.plot(x,mx,'-')\n",
    "plt.xlabel('x')\n",
    "plt.ylabel('Función de membresía')"
   ]
  },
  {
   "cell_type": "markdown",
   "metadata": {},
   "source": [
    "**Función de Pertenencia Triangular**\n",
    "\n",
    "$$\\mu_{tria}(x;a,b,c)=\\left\\{\\begin{array}{ll}\n",
    "0 \\qquad & \\mbox{si } x\\leq a\\\\\n",
    "\\frac{x-a}{b-a} \\qquad & \\mbox{si } a \\leq x\\leq b\\\\\n",
    "\\frac{c-x}{c-b} \\qquad & \\mbox{si } b \\leq x\\leq c\\\\\n",
    "0 \\qquad & \\mbox{si } x\\geq c\\\\\n",
    "\\end{array}\\right.$$"
   ]
  },
  {
   "cell_type": "code",
   "execution_count": null,
   "metadata": {},
   "outputs": [],
   "source": [
    "def mu_trap(x,a,b,c):\n",
    "    mx = []\n",
    "    for xi in x:\n",
    "        if xi<=a:\n",
    "            mx.append(0)\n",
    "        elif xi<=b:\n",
    "            mx.append((xi-a)/(b-a))\n",
    "        elif xi<=c:\n",
    "            mx.append((c-xi)/(c-b))\n",
    "        else:\n",
    "            mx.append(0)\n",
    "    return mx"
   ]
  },
  {
   "cell_type": "code",
   "execution_count": null,
   "metadata": {},
   "outputs": [],
   "source": [
    "x = np.arange(0,120,2)\n",
    "mx = mu_trap(x,20,60,80)"
   ]
  },
  {
   "cell_type": "code",
   "execution_count": null,
   "metadata": {},
   "outputs": [],
   "source": [
    "plt.plot(x,mx,'-')\n",
    "plt.xlabel('x')\n",
    "plt.ylabel('Función de membresía')"
   ]
  },
  {
   "cell_type": "markdown",
   "metadata": {},
   "source": [
    "**Función de Pertenencia Singleton**\n",
    "\n",
    "$$\\mu_{s}(x;a)=\\left\\{\\begin{array}{ll}\n",
    "1 \\qquad & \\mbox{si } x= a\\\\\n",
    "0 \\qquad & \\mbox{si } x\\neq a\\\\\n",
    "\\end{array}\\right.$$"
   ]
  },
  {
   "cell_type": "code",
   "execution_count": null,
   "metadata": {},
   "outputs": [],
   "source": [
    "def mu_s(x,a):\n",
    "    mx = []\n",
    "    for xi in x:\n",
    "        if xi==a:\n",
    "            mx.append(1)\n",
    "        else:\n",
    "            mx.append(0)\n",
    "    return mx"
   ]
  },
  {
   "cell_type": "code",
   "execution_count": null,
   "metadata": {},
   "outputs": [],
   "source": [
    "x = np.arange(0,120,2)\n",
    "mx = mu_s(x,60)"
   ]
  },
  {
   "cell_type": "code",
   "execution_count": null,
   "metadata": {},
   "outputs": [],
   "source": [
    "plt.plot(x,mx,'.')\n",
    "plt.xlabel('x')\n",
    "plt.ylabel('Función de membresía')"
   ]
  },
  {
   "cell_type": "markdown",
   "metadata": {},
   "source": [
    "**Función de pertenencia Gaussiana:**\n",
    "\n",
    "$$\\mu_{gauss}(x; c, \\sigma) = e^{-\\frac{1}{2}\\left(\\frac{x-c}{\\sigma}\\right)^2}$$"
   ]
  },
  {
   "cell_type": "code",
   "execution_count": null,
   "metadata": {},
   "outputs": [],
   "source": [
    "def mu_gauss(x,c,sig):\n",
    "    return np.exp(-0.5*((x-c)/sig)**2)"
   ]
  },
  {
   "cell_type": "code",
   "execution_count": null,
   "metadata": {},
   "outputs": [],
   "source": [
    "x = np.arange(-1,10,0.1)\n",
    "mx = mu_gauss(x,3,1)"
   ]
  },
  {
   "cell_type": "code",
   "execution_count": null,
   "metadata": {},
   "outputs": [],
   "source": [
    "plt.plot(x,mx,'-')\n",
    "plt.xlabel('x')\n",
    "plt.ylabel('Función de membresía')"
   ]
  },
  {
   "cell_type": "markdown",
   "metadata": {},
   "source": [
    "**Función de Pertenencia de Bell:**\n",
    "\n",
    "$$\\mu_{Bell}(x;a,b,c)= \\frac{1}{1+\\left|\\frac{x-c}{a}\\right|^{2b}}$$"
   ]
  },
  {
   "cell_type": "code",
   "execution_count": null,
   "metadata": {},
   "outputs": [],
   "source": [
    "def mu_bell(x,a,b,c):\n",
    "    return 1/(1+np.abs((x-c)/a)**(2*b))"
   ]
  },
  {
   "cell_type": "code",
   "execution_count": null,
   "metadata": {},
   "outputs": [],
   "source": [
    "x = np.arange(-3,10,0.1)\n",
    "mx = mu_bell(x,2,1,3)"
   ]
  },
  {
   "cell_type": "code",
   "execution_count": null,
   "metadata": {},
   "outputs": [],
   "source": [
    "plt.plot(x,mx,'-')\n",
    "plt.xlabel('x')\n",
    "plt.ylabel('Función de membresía')"
   ]
  },
  {
   "cell_type": "markdown",
   "metadata": {},
   "source": [
    "**Función de pertenencia Sigmoide**\n",
    "\n",
    "$$\\mu_{sigmoid}(x;a,c) = \\frac{1}{1+e^{-a(x-c)}}$$"
   ]
  },
  {
   "cell_type": "code",
   "execution_count": null,
   "metadata": {},
   "outputs": [],
   "source": [
    "def mu_sigmoid(x,a,c):\n",
    "    return 1/(1+np.exp(-a*(x-c)))"
   ]
  },
  {
   "cell_type": "code",
   "execution_count": null,
   "metadata": {},
   "outputs": [],
   "source": [
    "x = np.arange(-10,10,0.1)\n",
    "mx = mu_sigmoid(x,1,-5)"
   ]
  },
  {
   "cell_type": "code",
   "execution_count": null,
   "metadata": {},
   "outputs": [],
   "source": [
    "plt.plot(x,mx,'-')\n",
    "plt.xlabel('x')\n",
    "plt.ylabel('Función de membresía')"
   ]
  },
  {
   "cell_type": "code",
   "execution_count": null,
   "metadata": {},
   "outputs": [],
   "source": [
    "x = np.arange(-10,10,0.1)\n",
    "mx = mu_sigmoid(x,-1,-5)"
   ]
  },
  {
   "cell_type": "code",
   "execution_count": null,
   "metadata": {},
   "outputs": [],
   "source": [
    "plt.plot(x,mx,'-')\n",
    "plt.xlabel('x')\n",
    "plt.ylabel('Función de membresía')"
   ]
  },
  {
   "cell_type": "markdown",
   "metadata": {},
   "source": [
    "**Función de pertenencia doble-sigmoide**\n",
    "\n",
    "$$\\mu_{dob-sig}(x;a,b,c,d)= |\\mu_{sigmoid}(x;a,b) -  \\mu_{sigmoid}(x;c,d)|$$"
   ]
  },
  {
   "cell_type": "code",
   "execution_count": null,
   "metadata": {},
   "outputs": [],
   "source": [
    "def mu_dob_sig(x,a,b,c,d):\n",
    "    return np.abs(mu_sigmoid(x,a,b)-mu_sigmoid(x,c,d))"
   ]
  },
  {
   "cell_type": "code",
   "execution_count": null,
   "metadata": {},
   "outputs": [],
   "source": [
    "x = np.arange(-10,10,0.1)\n",
    "mx = mu_dob_sig(x,1,-5,2,5)"
   ]
  },
  {
   "cell_type": "code",
   "execution_count": null,
   "metadata": {},
   "outputs": [],
   "source": [
    "plt.plot(x,mx,'-')\n",
    "plt.xlabel('x')\n",
    "plt.ylabel('Función de membresía')"
   ]
  },
  {
   "cell_type": "markdown",
   "metadata": {},
   "source": [
    "## 3.2 Funciones de pertenencia con SciKit-Fuzzy"
   ]
  },
  {
   "cell_type": "code",
   "execution_count": null,
   "metadata": {},
   "outputs": [],
   "source": [
    "import skfuzzy as fuzz"
   ]
  },
  {
   "cell_type": "markdown",
   "metadata": {},
   "source": [
    "**Función de Pertenencia Trapezoidal**"
   ]
  },
  {
   "cell_type": "code",
   "execution_count": null,
   "metadata": {},
   "outputs": [],
   "source": [
    "x = np.arange(0, 120, 2)\n",
    "mfx = fuzz.trapmf(x, [10,20,60,95])"
   ]
  },
  {
   "cell_type": "code",
   "execution_count": null,
   "metadata": {},
   "outputs": [],
   "source": [
    "plt.plot(x,mfx,'-')\n",
    "plt.xlabel('x')\n",
    "plt.ylabel('Función de membresía')"
   ]
  },
  {
   "cell_type": "markdown",
   "metadata": {},
   "source": [
    "**Función de Pertenencia Triangular**"
   ]
  },
  {
   "cell_type": "code",
   "execution_count": null,
   "metadata": {},
   "outputs": [],
   "source": [
    "x = np.arange(0, 120, 2)\n",
    "mfx = fuzz.trimf(x, [20,60,80])"
   ]
  },
  {
   "cell_type": "code",
   "execution_count": null,
   "metadata": {},
   "outputs": [],
   "source": [
    "plt.plot(x,mfx,'-')\n",
    "plt.xlabel('x')\n",
    "plt.ylabel('Función de membresía')"
   ]
  },
  {
   "cell_type": "markdown",
   "metadata": {},
   "source": [
    "**Función de Pertenencia Sigmoidea**"
   ]
  },
  {
   "cell_type": "code",
   "execution_count": null,
   "metadata": {},
   "outputs": [],
   "source": [
    "x = np.arange(-10,10, 0.1)\n",
    "mfx = fuzz.sigmf(x, -5, 1)"
   ]
  },
  {
   "cell_type": "code",
   "execution_count": null,
   "metadata": {},
   "outputs": [],
   "source": [
    "plt.plot(x,mfx,'-')\n",
    "plt.xlabel('x')\n",
    "plt.ylabel('Función de membresía')"
   ]
  },
  {
   "cell_type": "markdown",
   "metadata": {},
   "source": [
    "**Función de Pertenencia Gaussiana**"
   ]
  },
  {
   "cell_type": "code",
   "execution_count": null,
   "metadata": {},
   "outputs": [],
   "source": [
    "x = np.arange(-1,10,0.1)\n",
    "mfx = fuzz.gaussmf(x,3,1)"
   ]
  },
  {
   "cell_type": "code",
   "execution_count": null,
   "metadata": {},
   "outputs": [],
   "source": [
    "plt.plot(x,mfx,'-')\n",
    "plt.xlabel('x')\n",
    "plt.ylabel('Función de membresía')"
   ]
  },
  {
   "cell_type": "markdown",
   "metadata": {},
   "source": [
    "**Función de Pertenencia de Bell Generalizada**"
   ]
  },
  {
   "cell_type": "code",
   "execution_count": null,
   "metadata": {},
   "outputs": [],
   "source": [
    "x = np.arange(-3,10,0.1)\n",
    "mfx = fuzz.gbellmf(x,2,1,3)"
   ]
  },
  {
   "cell_type": "code",
   "execution_count": null,
   "metadata": {},
   "outputs": [],
   "source": [
    "plt.plot(x,mfx,'-')\n",
    "plt.xlabel('x')\n",
    "plt.ylabel('Función de membresía')"
   ]
  },
  {
   "cell_type": "markdown",
   "metadata": {},
   "source": [
    "## 3.3 Variables Lingüísticas"
   ]
  },
  {
   "cell_type": "code",
   "execution_count": null,
   "metadata": {},
   "outputs": [],
   "source": [
    "from skfuzzy import control as ctrl"
   ]
  },
  {
   "cell_type": "markdown",
   "metadata": {},
   "source": [
    "**Ejemplo:** Supongamos que $X=$'edad', se pueden definir los conjuntos difusos 'joven', 'adulto', 'anciano'"
   ]
  },
  {
   "cell_type": "code",
   "execution_count": null,
   "metadata": {},
   "outputs": [],
   "source": [
    "edad = ctrl.Antecedent(np.arange(0, 100, 10), 'edad')"
   ]
  },
  {
   "cell_type": "code",
   "execution_count": null,
   "metadata": {},
   "outputs": [],
   "source": [
    "edad.automf(3)\n",
    "edad.view()"
   ]
  },
  {
   "cell_type": "code",
   "execution_count": null,
   "metadata": {},
   "outputs": [],
   "source": [
    "edad = ctrl.Antecedent(np.arange(0, 100, 10), 'edad')\n",
    "edad['joven'] = fuzz.trapmf(edad.universe, [0, 0, 20, 40])\n",
    "edad['adulto'] = fuzz.trapmf(edad.universe, [20, 40, 60, 80])\n",
    "edad['anciano'] = fuzz.trapmf(edad.universe, [60, 80, 100,100])\n",
    "edad.view()"
   ]
  }
 ],
 "metadata": {
  "kernelspec": {
   "display_name": "Python 3",
   "language": "python",
   "name": "python3"
  },
  "language_info": {
   "codemirror_mode": {
    "name": "ipython",
    "version": 3
   },
   "file_extension": ".py",
   "mimetype": "text/x-python",
   "name": "python",
   "nbconvert_exporter": "python",
   "pygments_lexer": "ipython3",
   "version": "3.6.9"
  }
 },
 "nbformat": 4,
 "nbformat_minor": 2
}
