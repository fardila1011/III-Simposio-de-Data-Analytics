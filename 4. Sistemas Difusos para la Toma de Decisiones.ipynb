{
 "cells": [
  {
   "cell_type": "markdown",
   "metadata": {},
   "source": [
    "# 4. Sistemas Difusos para la Toma de Decisiones\n",
    "\n",
    "- Autor: Rodrigo Salas, Dr. Ing.\n",
    "- email: rodrigo.salas@uv.cl"
   ]
  },
  {
   "cell_type": "markdown",
   "metadata": {},
   "source": [
    "En este notebook exploraremos el toolbox de SciKit-Fuzzy. Este documento está basado en la guía de usuario publicada:\n",
    "\n",
    "https://pythonhosted.org/scikit-fuzzy/userguide/getting_started.html\n",
    "\n",
    "Revisar la licencia de los códigos en:\n",
    "\n",
    "https://pythonhosted.org/scikit-fuzzy/license.html"
   ]
  },
  {
   "cell_type": "code",
   "execution_count": null,
   "metadata": {},
   "outputs": [],
   "source": [
    "import numpy as np\n",
    "import matplotlib.pyplot as plt\n",
    "import skfuzzy as fuzz\n",
    "from skfuzzy import control as ctrl\n",
    "\n",
    "%matplotlib inline"
   ]
  },
  {
   "cell_type": "markdown",
   "metadata": {},
   "source": [
    "## 4.1. Principios de Control Difuso\n",
    "\n",
    "La **lógica difusa** es una metodología basada en la idea de \"grado de verdad\", es decir, no solo se tiene verdadero o falso, sino que cualquier valor entre medio.\n",
    "\n",
    "Una **variable difusa** tiene un valor nítido que adquiere algún número sobre un dominio predefinido (en términos de lógica difusa, llamado universo). El valor nítido es cómo pensamos en la variable usando las matemáticas normales. \n",
    "\n",
    "Una variable difusa también tiene varios términos que se usan para describir la variable. Los términos tomados juntos son el **conjunto difuso** que se puede usar para describir el *valor difuso* de una variable difusa. Estos términos suelen ser adjetivos como \"pobre\", \"mediocre\" y \"bueno\". Cada término tiene una función de membresía que define cómo un valor nítido se asigna al término en una escala de 0 a 1. \n",
    "\n",
    "\n",
    "Un **sistema de control difuso** vincula variables difusas utilizando un conjunto de reglas. Estas reglas son simplemente asignaciones que describen cómo una o más variables difusas se relacionan con otra. Estos se expresan en términos de una declaración IF-THEN; la parte IF se llama antecedente y la parte ENTONCES es la consecuente."
   ]
  },
  {
   "cell_type": "markdown",
   "metadata": {},
   "source": [
    "## 4.2. Ejemplo: El problema de las propinas"
   ]
  },
  {
   "cell_type": "markdown",
   "metadata": {},
   "source": [
    "Se desea crear un controlador que estima la propina que debería entregarse a un restaurant.\n",
    "\n",
    "**Antecedentes (entrada)**\n",
    "- Servicio\n",
    "    - Universo (rango de valores nítidos): ¿Qué tan bueno fue el servicio del mesero, en una escala de 1 a 10?\n",
    "    - Conjuntos difusos (rango de valores difusos): pobre, aceptable, excelente\n",
    "- Calidad de la Comida:\n",
    "    - Universo: ¿Qué tan sabrosa fue la comida, en una escala de 1 a 10?\n",
    "    - Conjunto Difuso: malo, regular, exquisito\n",
    "    \n",
    "**Consecuente (salida)**\n",
    "- Propina:\n",
    "    - Universo: ¿Cuánto debería ser la propina?, un porcentaje del valor total de la cuenta que va entre 0% y 25%\n",
    "    - Conjunto Difuso: baja, media, alta"
   ]
  },
  {
   "cell_type": "markdown",
   "metadata": {},
   "source": [
    "**Reglas:**\n",
    "\n",
    "- SI el *servicio* fue pobre o la *calidad de la comida* fue mala, ENTONCES la propina será baja\n",
    "- SI el *servicio* fue aceptable, ENTONCES la propina será media\n",
    "- SI el *servicio* fue excelente la *calidad de la comida* fue exquisita ENTONCES la propina será alta."
   ]
  },
  {
   "cell_type": "markdown",
   "metadata": {},
   "source": [
    "**USO:**\n",
    "\n",
    "- Al controlador le entrego:\n",
    "    - El servicio fue 9.8\n",
    "    - La calidad fue 6.5\n",
    "- Recomendará que deje una propina del 20.2%"
   ]
  },
  {
   "cell_type": "markdown",
   "metadata": {},
   "source": [
    "## 4.3. Sistema de Control Difuso \n",
    "\n",
    "1. Generar el universo de las variables"
   ]
  },
  {
   "cell_type": "code",
   "execution_count": null,
   "metadata": {},
   "outputs": [],
   "source": [
    "x_qual = np.arange(0, 11, 1) # calidad [0,10]\n",
    "x_serv = np.arange(0, 11, 1) # servicio [0,10]\n",
    "x_tip  = np.arange(0, 26, 1) # propina [0,25]"
   ]
  },
  {
   "cell_type": "markdown",
   "metadata": {},
   "source": [
    "2. Generara la funciones de membresías difusos"
   ]
  },
  {
   "cell_type": "markdown",
   "metadata": {},
   "source": [
    "- Calidad:"
   ]
  },
  {
   "cell_type": "code",
   "execution_count": null,
   "metadata": {},
   "outputs": [],
   "source": [
    "qual_lo = fuzz.trimf(x_qual, [0, 0, 5])\n",
    "qual_md = fuzz.trimf(x_qual, [0, 5, 10])\n",
    "qual_hi = fuzz.trimf(x_qual, [5, 10, 10])"
   ]
  },
  {
   "cell_type": "markdown",
   "metadata": {},
   "source": [
    "- Servicio:"
   ]
  },
  {
   "cell_type": "code",
   "execution_count": null,
   "metadata": {},
   "outputs": [],
   "source": [
    "serv_lo = fuzz.trimf(x_serv, [0, 0, 5])\n",
    "serv_md = fuzz.trimf(x_serv, [0, 5, 10])\n",
    "serv_hi = fuzz.trimf(x_serv, [5, 10, 10])"
   ]
  },
  {
   "cell_type": "markdown",
   "metadata": {},
   "source": [
    "- Propina:"
   ]
  },
  {
   "cell_type": "code",
   "execution_count": null,
   "metadata": {},
   "outputs": [],
   "source": [
    "tip_lo = fuzz.trimf(x_tip, [0, 0, 13])\n",
    "tip_md = fuzz.trimf(x_tip, [0, 13, 25])\n",
    "tip_hi = fuzz.trimf(x_tip, [13, 25, 25])"
   ]
  },
  {
   "cell_type": "markdown",
   "metadata": {},
   "source": [
    "3. Visualización del universo de las funciones de membresías"
   ]
  },
  {
   "cell_type": "code",
   "execution_count": null,
   "metadata": {},
   "outputs": [],
   "source": [
    "fig, (ax0, ax1, ax2) = plt.subplots(nrows=3, figsize=(8, 9))\n",
    "\n",
    "ax0.plot(x_qual, qual_lo, 'b', linewidth=1.5, label='Pobre')\n",
    "ax0.plot(x_qual, qual_md, 'g', linewidth=1.5, label='Aceptable')\n",
    "ax0.plot(x_qual, qual_hi, 'r', linewidth=1.5, label='Excelente')\n",
    "ax0.set_title('Calidad de la comida')\n",
    "ax0.legend()\n",
    "\n",
    "ax1.plot(x_serv, serv_lo, 'b', linewidth=1.5, label='Baja')\n",
    "ax1.plot(x_serv, serv_md, 'g', linewidth=1.5, label='Media')\n",
    "ax1.plot(x_serv, serv_hi, 'r', linewidth=1.5, label='Alta')\n",
    "ax1.set_title('CAlidad del Servicio')\n",
    "ax1.legend()\n",
    "\n",
    "ax2.plot(x_tip, tip_lo, 'b', linewidth=1.5, label='Baja')\n",
    "ax2.plot(x_tip, tip_md, 'g', linewidth=1.5, label='Media')\n",
    "ax2.plot(x_tip, tip_hi, 'r', linewidth=1.5, label='Alta')\n",
    "ax2.set_title('Porcentaje de propina')\n",
    "ax2.legend()\n",
    "\n",
    "for ax in (ax0, ax1, ax2):\n",
    "    ax.spines['top'].set_visible(False)\n",
    "    ax.spines['right'].set_visible(False)\n",
    "    ax.get_xaxis().tick_bottom()\n",
    "    ax.get_yaxis().tick_left()\n",
    "\n",
    "plt.tight_layout()"
   ]
  },
  {
   "cell_type": "markdown",
   "metadata": {},
   "source": [
    "4. Aplicación de las reglas\n",
    "Obtención del consecuente dada la calidad de la comida de 6.5 y el servicio de 9.8\n",
    "\n",
    "\n",
    "- Evaluación de la función de membresía en estos valores:"
   ]
  },
  {
   "cell_type": "code",
   "execution_count": null,
   "metadata": {},
   "outputs": [],
   "source": [
    "qual_level_lo = fuzz.interp_membership(x_qual, qual_lo, 6.5)\n",
    "qual_level_md = fuzz.interp_membership(x_qual, qual_md, 6.5)\n",
    "qual_level_hi = fuzz.interp_membership(x_qual, qual_hi, 6.5)\n",
    "\n",
    "serv_level_lo = fuzz.interp_membership(x_serv, serv_lo, 9.8)\n",
    "serv_level_md = fuzz.interp_membership(x_serv, serv_md, 9.8)\n",
    "serv_level_hi = fuzz.interp_membership(x_serv, serv_hi, 9.8)"
   ]
  },
  {
   "cell_type": "markdown",
   "metadata": {},
   "source": [
    "**REGLA 1:** SI el *servicio* fue pobre o la *calidad de la comida* fue mala, ENTONCES la propina será baja\n",
    "\n",
    "Operador MAX para el **OR**"
   ]
  },
  {
   "cell_type": "code",
   "execution_count": null,
   "metadata": {},
   "outputs": [],
   "source": [
    "active_rule1 = np.fmax(qual_level_lo, serv_level_lo)"
   ]
  },
  {
   "cell_type": "markdown",
   "metadata": {},
   "source": [
    "Obtención del consecuente utlizando la función MIN"
   ]
  },
  {
   "cell_type": "code",
   "execution_count": null,
   "metadata": {},
   "outputs": [],
   "source": [
    "tip_activation_lo = np.fmin(active_rule1, tip_lo)  # removed entirely to 0"
   ]
  },
  {
   "cell_type": "markdown",
   "metadata": {},
   "source": [
    "**REGLA 2:** SI el *servicio* fue aceptable, ENTONCES la propina será media"
   ]
  },
  {
   "cell_type": "code",
   "execution_count": null,
   "metadata": {},
   "outputs": [],
   "source": [
    "# For rule 2 we connect acceptable service to medium tipping\n",
    "tip_activation_md = np.fmin(serv_level_md, tip_md)"
   ]
  },
  {
   "cell_type": "markdown",
   "metadata": {},
   "source": [
    "**REGLA 3:** SI el *servicio* fue excelente la *calidad de la comida* fue exquisita ENTONCES la propina será alta."
   ]
  },
  {
   "cell_type": "code",
   "execution_count": null,
   "metadata": {},
   "outputs": [],
   "source": [
    "active_rule3 = np.fmax(qual_level_hi, serv_level_hi)\n",
    "tip_activation_hi = np.fmin(active_rule3, tip_hi)"
   ]
  },
  {
   "cell_type": "markdown",
   "metadata": {},
   "source": [
    "5. Visualización del Consecuente"
   ]
  },
  {
   "cell_type": "code",
   "execution_count": null,
   "metadata": {},
   "outputs": [],
   "source": [
    "tip0 = np.zeros_like(x_tip)\n",
    "\n",
    "fig, ax0 = plt.subplots(figsize=(8, 3))\n",
    "\n",
    "ax0.fill_between(x_tip, tip0, tip_activation_lo, facecolor='b', alpha=0.7)\n",
    "ax0.plot(x_tip, tip_lo, 'b', linewidth=0.5, linestyle='--', label='baja')\n",
    "ax0.fill_between(x_tip, tip0, tip_activation_md, facecolor='g', alpha=0.7)\n",
    "ax0.plot(x_tip, tip_md, 'g', linewidth=0.5, linestyle='--', label='media')\n",
    "ax0.fill_between(x_tip, tip0, tip_activation_hi, facecolor='r', alpha=0.7)\n",
    "ax0.plot(x_tip, tip_hi, 'r', linewidth=0.5, linestyle='--', label='alta')\n",
    "ax0.set_title('Activación de la función de membresía de la salida')\n",
    "ax0.legend()\n",
    "\n",
    "for ax in (ax0,):\n",
    "    ax.spines['top'].set_visible(False)\n",
    "    ax.spines['right'].set_visible(False)\n",
    "    ax.get_xaxis().tick_bottom()\n",
    "    ax.get_yaxis().tick_left()\n",
    "\n",
    "plt.tight_layout()"
   ]
  },
  {
   "cell_type": "markdown",
   "metadata": {},
   "source": [
    "6. Agregación de las Reglas\n",
    "\n",
    "Con la activación de cada función de membresía de salida, todas las funciones de membresías tienen que ser combinadas.\n",
    "\n",
    "Para agregar se utliza el oprador MAX"
   ]
  },
  {
   "cell_type": "code",
   "execution_count": null,
   "metadata": {},
   "outputs": [],
   "source": [
    "aggregated = np.fmax(tip_activation_lo, np.fmax(tip_activation_md, tip_activation_hi))"
   ]
  },
  {
   "cell_type": "markdown",
   "metadata": {},
   "source": [
    "7. Defuzzification\n",
    "\n",
    "Finalmente se obtiene una respuesta dada por un valor real, el cual se obtiene con el método de los centroides."
   ]
  },
  {
   "cell_type": "code",
   "execution_count": null,
   "metadata": {},
   "outputs": [],
   "source": [
    "# Calculate defuzzified result\n",
    "tip = fuzz.defuzz(x_tip, aggregated, 'centroid')\n",
    "print(\"El porcentaje de valor total que se dará como propina es \", tip)"
   ]
  },
  {
   "cell_type": "markdown",
   "metadata": {},
   "source": [
    "8. Visualización de la desfuzzificación"
   ]
  },
  {
   "cell_type": "code",
   "execution_count": null,
   "metadata": {},
   "outputs": [],
   "source": [
    "fig, ax0 = plt.subplots(figsize=(8, 3))\n",
    "\n",
    "tip_activation = fuzz.interp_membership(x_tip, aggregated, tip)  \n",
    "\n",
    "ax0.plot(x_tip, tip_lo, 'b', linewidth=0.5, linestyle='--', )\n",
    "ax0.plot(x_tip, tip_md, 'g', linewidth=0.5, linestyle='--')\n",
    "ax0.plot(x_tip, tip_hi, 'r', linewidth=0.5, linestyle='--')\n",
    "ax0.fill_between(x_tip, tip0, aggregated, facecolor='Orange', alpha=0.7)\n",
    "ax0.plot([tip, tip], [0, tip_activation], 'k', linewidth=1.5, alpha=0.9)\n",
    "ax0.set_title('Función de membresía agregada y resultado (linea)')\n",
    "\n",
    "# Turn off top/right axes\n",
    "for ax in (ax0,):\n",
    "    ax.spines['top'].set_visible(False)\n",
    "    ax.spines['right'].set_visible(False)\n",
    "    ax.get_xaxis().tick_bottom()\n",
    "    ax.get_yaxis().tick_left()\n",
    "\n",
    "plt.tight_layout()"
   ]
  },
  {
   "cell_type": "markdown",
   "metadata": {},
   "source": [
    "## 4.4. Creando un controlador usando SKFUZZY"
   ]
  },
  {
   "cell_type": "markdown",
   "metadata": {},
   "source": [
    "1. Definición de las variables linguisticas"
   ]
  },
  {
   "cell_type": "markdown",
   "metadata": {},
   "source": [
    "Definición del Universo"
   ]
  },
  {
   "cell_type": "code",
   "execution_count": null,
   "metadata": {},
   "outputs": [],
   "source": [
    "quality = ctrl.Antecedent(np.arange(0, 11, 1), 'quality')\n",
    "service = ctrl.Antecedent(np.arange(0, 11, 1), 'service')\n",
    "tip = ctrl.Consequent(np.arange(0, 26, 1), 'tip')"
   ]
  },
  {
   "cell_type": "markdown",
   "metadata": {},
   "source": [
    "Funciones de membresías de las variables lingüísticas creadas de forma automática"
   ]
  },
  {
   "cell_type": "code",
   "execution_count": null,
   "metadata": {},
   "outputs": [],
   "source": [
    "quality.automf(3)\n",
    "service.automf(3)"
   ]
  },
  {
   "cell_type": "markdown",
   "metadata": {},
   "source": [
    "Funciones de membresías creadas de forma manual"
   ]
  },
  {
   "cell_type": "code",
   "execution_count": null,
   "metadata": {},
   "outputs": [],
   "source": [
    "tip['low'] = fuzz.trimf(tip.universe, [0, 0, 13])\n",
    "tip['medium'] = fuzz.trimf(tip.universe, [0, 13, 25])\n",
    "tip['high'] = fuzz.trimf(tip.universe, [13, 25, 25])"
   ]
  },
  {
   "cell_type": "markdown",
   "metadata": {},
   "source": [
    "2. Visualización"
   ]
  },
  {
   "cell_type": "code",
   "execution_count": null,
   "metadata": {},
   "outputs": [],
   "source": [
    "quality['average'].view()"
   ]
  },
  {
   "cell_type": "code",
   "execution_count": null,
   "metadata": {},
   "outputs": [],
   "source": [
    "service.view()"
   ]
  },
  {
   "cell_type": "code",
   "execution_count": null,
   "metadata": {},
   "outputs": [],
   "source": [
    "tip.view()"
   ]
  },
  {
   "cell_type": "markdown",
   "metadata": {},
   "source": [
    "3. Reglas difusas"
   ]
  },
  {
   "cell_type": "markdown",
   "metadata": {},
   "source": [
    "**REGLA 1:** SI el *servicio* fue pobre o la *calidad de la comida* fue mala, ENTONCES la propina será baja"
   ]
  },
  {
   "cell_type": "code",
   "execution_count": null,
   "metadata": {},
   "outputs": [],
   "source": [
    "rule1 = ctrl.Rule(quality['poor'] | service['poor'], tip['low'])"
   ]
  },
  {
   "cell_type": "markdown",
   "metadata": {},
   "source": [
    "**REGLA 2:** SI el *servicio* fue aceptable, ENTONCES la propina será media"
   ]
  },
  {
   "cell_type": "code",
   "execution_count": null,
   "metadata": {},
   "outputs": [],
   "source": [
    "rule2 = ctrl.Rule(service['average'], tip['medium'])"
   ]
  },
  {
   "cell_type": "markdown",
   "metadata": {},
   "source": [
    "**REGLA 3:** SI el *servicio* fue excelente la *calidad de la comida* fue exquisita ENTONCES la propina será alta."
   ]
  },
  {
   "cell_type": "code",
   "execution_count": null,
   "metadata": {},
   "outputs": [],
   "source": [
    "rule3 = ctrl.Rule(service['good'] | quality['good'], tip['high'])"
   ]
  },
  {
   "cell_type": "markdown",
   "metadata": {},
   "source": [
    "4. Creación del sistema de control"
   ]
  },
  {
   "cell_type": "code",
   "execution_count": null,
   "metadata": {},
   "outputs": [],
   "source": [
    "tipping_ctrl = ctrl.ControlSystem([rule1, rule2, rule3])"
   ]
  },
  {
   "cell_type": "markdown",
   "metadata": {},
   "source": [
    "5. Simulación del Sistema de Control"
   ]
  },
  {
   "cell_type": "code",
   "execution_count": null,
   "metadata": {},
   "outputs": [],
   "source": [
    "tipping = ctrl.ControlSystemSimulation(tipping_ctrl)"
   ]
  },
  {
   "cell_type": "markdown",
   "metadata": {},
   "source": [
    "Especificación de las entradas para que el simulador realice la computación"
   ]
  },
  {
   "cell_type": "code",
   "execution_count": null,
   "metadata": {},
   "outputs": [],
   "source": [
    "tipping.input['quality'] = 6.5\n",
    "tipping.input['service'] = 9.8\n",
    "\n",
    "tipping.compute()"
   ]
  },
  {
   "cell_type": "markdown",
   "metadata": {},
   "source": [
    "6. Propina sugerida"
   ]
  },
  {
   "cell_type": "code",
   "execution_count": null,
   "metadata": {},
   "outputs": [],
   "source": [
    "propina = tipping.output['tip']\n",
    "print(\"El porcentaje de valor total que se dará como propina es \", propina)"
   ]
  },
  {
   "cell_type": "markdown",
   "metadata": {},
   "source": [
    "7. Visualización de la Salida"
   ]
  },
  {
   "cell_type": "code",
   "execution_count": null,
   "metadata": {},
   "outputs": [],
   "source": [
    "tip.view(sim=tipping)"
   ]
  }
 ],
 "metadata": {
  "kernelspec": {
   "display_name": "Python 3",
   "language": "python",
   "name": "python3"
  },
  "language_info": {
   "codemirror_mode": {
    "name": "ipython",
    "version": 3
   },
   "file_extension": ".py",
   "mimetype": "text/x-python",
   "name": "python",
   "nbconvert_exporter": "python",
   "pygments_lexer": "ipython3",
   "version": "3.6.9"
  }
 },
 "nbformat": 4,
 "nbformat_minor": 2
}
