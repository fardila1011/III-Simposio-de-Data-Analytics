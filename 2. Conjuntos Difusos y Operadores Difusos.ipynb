{
 "cells": [
  {
   "cell_type": "markdown",
   "metadata": {},
   "source": [
    "# 2. Conjuntos Difusos y Operadores Difusos\n",
    "\n",
    "- Autor: Rodrigo Salas, Dr. Ing.\n",
    "- e-mail: rodrigo.salas@uv.cl"
   ]
  },
  {
   "cell_type": "code",
   "execution_count": null,
   "metadata": {},
   "outputs": [],
   "source": [
    "import numpy as np\n",
    "import matplotlib.pyplot as plt\n",
    "%matplotlib inline"
   ]
  },
  {
   "cell_type": "markdown",
   "metadata": {},
   "source": [
    "## 2.1 Conjuntos Difusos"
   ]
  },
  {
   "cell_type": "markdown",
   "metadata": {},
   "source": [
    "**Ejemplo:** Se considera una persona alta si mide 1.80 metros o más.\n",
    "\n",
    "En los conjuntos clásicos o nítidos se tendría:\n",
    "\n",
    "$$A = \\{x | x \\geq 1.8\\}$$"
   ]
  },
  {
   "cell_type": "code",
   "execution_count": null,
   "metadata": {},
   "outputs": [],
   "source": [
    "def A(x):\n",
    "    if x>=1.8: return 1\n",
    "    return 0"
   ]
  },
  {
   "cell_type": "code",
   "execution_count": null,
   "metadata": {},
   "outputs": [],
   "source": [
    "print('Si la persona mide 1.9 metros es alta con membresía =', A(1.9))\n",
    "print('Si la persona mide 1.8 metros es alta con membresía =', A(1.8))\n",
    "print('Si la persona mide 1.7999 metros es alta con membresía =', A(1.7999))\n",
    "print('Si la persona mide 1.7 metros es alta con membresía =', A(1.7))\n",
    "print('Si la persona mide 1.65 metros es alta con membresía =', A(1.65))"
   ]
  },
  {
   "cell_type": "code",
   "execution_count": null,
   "metadata": {},
   "outputs": [],
   "source": [
    "x = np.linspace(1.5,1.9,100)\n",
    "mx = list(map(A,x))\n",
    "plt.plot(x,mx,'-', label=\"Conjunto Rígido\")\n",
    "plt.title('Grado de pertenencia a Alto')\n",
    "plt.xlabel('Altura en metros')\n",
    "plt.ylabel('Función de membresía')\n",
    "plt.legend()"
   ]
  },
  {
   "cell_type": "markdown",
   "metadata": {},
   "source": [
    "Observar que en este tipo de conjunto una persona que mide 1.7999 no es alta.\n",
    "\n",
    "Si consideramos un conjunto difuso donde el grado de pertenencia a alta va disminuyendo a medida que se aleja de 1.8 metros, entonces se modelaría mejor esta situación.\n",
    "\n",
    "Consideremos que una persona con 1.65 metros o menos ya no es alta, y gradualmente va perteneciendo al conjunto de alto a medida que está más cerca de 1.8 metros."
   ]
  },
  {
   "cell_type": "code",
   "execution_count": null,
   "metadata": {},
   "outputs": [],
   "source": [
    "def A_difuso(x):\n",
    "    if x>=1.8: \n",
    "        return 1\n",
    "    elif x>=1.65:\n",
    "        return (x-1.65)/(1.8-1.65)\n",
    "    return 0"
   ]
  },
  {
   "cell_type": "code",
   "execution_count": null,
   "metadata": {},
   "outputs": [],
   "source": [
    "print('Si la persona mide 1.9 metros es alta con membresía =', A_difuso(1.9))\n",
    "print('Si la persona mide 1.8 metros es alta con membresía =', A_difuso(1.8))\n",
    "print('Si la persona mide 1.7999 metros es alta con membresía =', A_difuso(1.7999))\n",
    "print('Si la persona mide 1.7 metros es alta con membresía =', A_difuso(1.7))\n",
    "print('Si la persona mide 1.65 metros es alta con membresía =', A_difuso(1.65))"
   ]
  },
  {
   "cell_type": "code",
   "execution_count": null,
   "metadata": {},
   "outputs": [],
   "source": [
    "x = np.linspace(1.5,1.9,100)\n",
    "mx = list(map(A_difuso,x))\n",
    "plt.plot(x,mx,'-', label=\"Conjunto Rígido\")\n",
    "plt.title('Grado de pertenencia a Alto')\n",
    "plt.xlabel('Altura en metros')\n",
    "plt.ylabel('Función de membresía')\n",
    "plt.legend()"
   ]
  },
  {
   "cell_type": "markdown",
   "metadata": {},
   "source": [
    "## 2.2 Operadores de Conjuntos Difusos"
   ]
  },
  {
   "cell_type": "markdown",
   "metadata": {},
   "source": [
    "**Operadores de Zadeh o Gödel**\n",
    "\n",
    "En este caso la T-norma es la operación del mínimo $T(a,b) = \\min(a,b)$, la T-conorma es el máximo $T(a,b) = \\max(a,b)$ y la negación es $N(x)=1-x$\n",
    "\n",
    "Al revisar la consistencia se tiene:\n",
    "\n",
    "- Para $p$ and $q$"
   ]
  },
  {
   "cell_type": "code",
   "execution_count": null,
   "metadata": {},
   "outputs": [],
   "source": [
    "print(\"Si p =\", 0, \" y q =\", 0, \"entonces p and q = \", np.fmin(0,0))\n",
    "print(\"Si p =\", 0, \" y q =\", 1, \"entonces p and q = \", np.fmin(0,1))\n",
    "print(\"Si p =\", 1, \" y q =\", 0, \"entonces p and q = \", np.fmin(1,0))\n",
    "print(\"Si p =\", 1, \" y q =\", 1, \"entonces p and q = \", np.fmin(1,1))"
   ]
  },
  {
   "cell_type": "markdown",
   "metadata": {},
   "source": [
    "- Para p or q"
   ]
  },
  {
   "cell_type": "code",
   "execution_count": null,
   "metadata": {},
   "outputs": [],
   "source": [
    "print(\"Si p =\", 0, \" y q =\", 0, \"entonces p or q = \", np.fmax(0,0))\n",
    "print(\"Si p =\", 0, \" y q =\", 1, \"entonces p or q = \", np.fmax(0,1))\n",
    "print(\"Si p =\", 1, \" y q =\", 0, \"entonces p or q = \", np.fmax(1,0))\n",
    "print(\"Si p =\", 1, \" y q =\", 1, \"entonces p or q = \", np.fmax(1,1))"
   ]
  },
  {
   "cell_type": "markdown",
   "metadata": {},
   "source": [
    "- Para not p"
   ]
  },
  {
   "cell_type": "code",
   "execution_count": null,
   "metadata": {},
   "outputs": [],
   "source": [
    "print(\"Si p =\", 0, \" entonces not p = \", 1-0)\n",
    "print(\"Si p =\", 1, \" entonces not p = \", 1-1)"
   ]
  },
  {
   "cell_type": "markdown",
   "metadata": {},
   "source": [
    "Sin embargo también podemos obtener valores intermedios:"
   ]
  },
  {
   "cell_type": "code",
   "execution_count": null,
   "metadata": {},
   "outputs": [],
   "source": [
    "mu_p = 0.3\n",
    "mu_q = 0.7\n",
    "print(\"Si p =\", mu_p , \" y q =\", 0, \"entonces p and q = \", np.fmin(mu_p,mu_q))\n",
    "print(\"Si p =\", mu_p , \" y q =\", 0, \"entonces p or q = \", np.fmax(mu_p,mu_q))\n",
    "print(\"Si p =\", mu_p , \" entonces not p = \", 1-mu_p)\n",
    "print(\"Si q =\", mu_q , \" entonces not q = \", 1-mu_q)"
   ]
  },
  {
   "cell_type": "markdown",
   "metadata": {},
   "source": [
    "Podemos visualizar los gráficos:"
   ]
  },
  {
   "cell_type": "code",
   "execution_count": null,
   "metadata": {},
   "outputs": [],
   "source": [
    "from mpl_toolkits.mplot3d.axes3d import get_test_data\n",
    "from matplotlib import cm\n",
    "from mpl_toolkits.mplot3d import Axes3D"
   ]
  },
  {
   "cell_type": "code",
   "execution_count": null,
   "metadata": {},
   "outputs": [],
   "source": [
    "fig = plt.figure(figsize=plt.figaspect(0.5))\n",
    "ax = fig.add_subplot(1, 2, 1, projection='3d')\n",
    "\n",
    "X = np.arange(0, 1, 0.1)\n",
    "Y = np.arange(0, 1, 0.1)\n",
    "X, Y = np.meshgrid(X, Y)\n",
    "Z = np.fmin(X,Y)\n",
    "\n",
    "surf = ax.plot_surface(X, Y, Z, rstride=1, cstride=1, cmap=cm.coolwarm, linewidth=0, antialiased=False)\n",
    "ax.set_zlim(-0.01, 1.01)\n",
    "fig.colorbar(surf, shrink=0.5, aspect=10)"
   ]
  },
  {
   "cell_type": "code",
   "execution_count": null,
   "metadata": {},
   "outputs": [],
   "source": [
    "fig = plt.figure(figsize=plt.figaspect(0.5))\n",
    "ax = fig.add_subplot(1, 2, 1, projection='3d')\n",
    "\n",
    "X = np.arange(0, 1, 0.1)\n",
    "Y = np.arange(0, 1, 0.1)\n",
    "X, Y = np.meshgrid(X, Y)\n",
    "Z = np.fmax(X,Y)\n",
    "\n",
    "surf = ax.plot_surface(X, Y, Z, rstride=1, cstride=1, cmap=cm.coolwarm, linewidth=0, antialiased=False)\n",
    "ax.set_zlim(-0.01, 1.01)\n",
    "fig.colorbar(surf, shrink=0.5, aspect=10)"
   ]
  },
  {
   "cell_type": "markdown",
   "metadata": {},
   "source": [
    "**Operadores del Producto**\n",
    "\n",
    "Repetir la actividad para los operadores del producto"
   ]
  },
  {
   "cell_type": "code",
   "execution_count": null,
   "metadata": {},
   "outputs": [],
   "source": []
  },
  {
   "cell_type": "markdown",
   "metadata": {},
   "source": [
    "**Operadores de Lukasiewicz**\n",
    "\n",
    "Repetir la actividad para los operadores de Lukasiewicz"
   ]
  },
  {
   "cell_type": "code",
   "execution_count": null,
   "metadata": {},
   "outputs": [],
   "source": []
  }
 ],
 "metadata": {
  "kernelspec": {
   "display_name": "Python 3",
   "language": "python",
   "name": "python3"
  },
  "language_info": {
   "codemirror_mode": {
    "name": "ipython",
    "version": 3
   },
   "file_extension": ".py",
   "mimetype": "text/x-python",
   "name": "python",
   "nbconvert_exporter": "python",
   "pygments_lexer": "ipython3",
   "version": "3.6.9"
  }
 },
 "nbformat": 4,
 "nbformat_minor": 2
}
