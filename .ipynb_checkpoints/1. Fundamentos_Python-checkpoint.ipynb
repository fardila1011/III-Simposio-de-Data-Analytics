{
 "cells": [
  {
   "cell_type": "markdown",
   "metadata": {},
   "source": [
    "# Actividad 1 - Fundamentos de Python \n",
    "\n",
    "- Autor: Rodrigo Salas, Dr. Ing. \n",
    "- e-mail: rodrigo.salas@uv.cl\n"
   ]
  },
  {
   "cell_type": "markdown",
   "metadata": {},
   "source": [
    "## 1. Operadores"
   ]
  },
  {
   "cell_type": "markdown",
   "metadata": {},
   "source": [
    "**Operadores Aritméticos**\n",
    "\n",
    "| Símbolo | Significado       |\n",
    "|---------|-------------------|\n",
    "|   +     | Suma              |\n",
    "|   -     | Resta             |\n",
    "|   -     | Negativo          |\n",
    "|   *     | Multiplicación    |\n",
    "|   **    | Exponente         |\n",
    "|   /     | División          |\n",
    "|   //    | División entera   |\n",
    "|   %     | Módulo            |"
   ]
  },
  {
   "cell_type": "markdown",
   "metadata": {},
   "source": [
    "**Ejemplo 1:** Solicitar que el usuario ingrese dos números y entregar los resultados de los diferentes operadores"
   ]
  },
  {
   "cell_type": "code",
   "execution_count": 1,
   "metadata": {},
   "outputs": [
    {
     "name": "stdin",
     "output_type": "stream",
     "text": [
      "Ingrese un número:  3\n",
      "Ingrese un número:  2\n"
     ]
    },
    {
     "name": "stdout",
     "output_type": "stream",
     "text": [
      "Suma =  5\n",
      "Resta =  1\n",
      "Multiplicación =  6\n",
      "División =  1.5\n",
      "Exponente =  9\n",
      "División entera =  1\n",
      "Módulo =  1\n"
     ]
    }
   ],
   "source": [
    "n1 = int(input(\"Ingrese un número: \"))\n",
    "n2 = int(input(\"Ingrese un número: \"))\n",
    "print(\"Suma = \", n1 + n2)\n",
    "print(\"Resta = \", n1 - n2)\n",
    "print(\"Multiplicación = \", n1 * n2)\n",
    "print(\"División = \", n1 / n2)\n",
    "print(\"Exponente = \", n1 ** n2)\n",
    "print(\"División entera = \", n1 // n2)\n",
    "print(\"Módulo = \", n1 % n2)"
   ]
  },
  {
   "cell_type": "markdown",
   "metadata": {},
   "source": [
    "**Ejercicio 1:** Dado dos número ingresados por el usuario escribir el resultado de la división con una parte entera y con la parte fraccional.\n",
    "\n",
    "$$ 17/2 = 8 \\frac{1}{2} $$\n"
   ]
  },
  {
   "cell_type": "code",
   "execution_count": 4,
   "metadata": {},
   "outputs": [
    {
     "name": "stdin",
     "output_type": "stream",
     "text": [
      "Ingrese un número:  17\n",
      "Ingrese un número:  2\n"
     ]
    },
    {
     "name": "stdout",
     "output_type": "stream",
     "text": [
      "17/2 = 8 0.5\n"
     ]
    }
   ],
   "source": [
    "n1 = int(input(\"Ingrese un número: \"))\n",
    "n2 = int(input(\"Ingrese un número: \"))\n",
    "\n",
    "pe = n1 // n2\n",
    "pf = (n1 - (pe * n2)) / n2\n",
    "\n",
    "print(str(n1) + \"/\" + str(n2) + \" = \" + str(pe) + \" \" + str(pf))"
   ]
  },
  {
   "cell_type": "markdown",
   "metadata": {},
   "source": [
    "**Operadores de relación:**\n",
    "\n",
    "| Símbolo | Significado       |\n",
    "|---------|-------------------|\n",
    "|   ==    | Igual que         |\n",
    "|   !=    | Distinto que      |\n",
    "|   <     | Menor que         |\n",
    "|   >     | Mayor que         |\n",
    "|   <=    | Menor o igual que |\n",
    "|   >=    | Mayor o igual que |\n",
    "\n",
    "**Operadores Lógicos**\n",
    "\n",
    "| Símbolo   |\n",
    "|-----------|\n",
    "|   and     |\n",
    "|   or      |\n",
    "|   not     |\n",
    "|   ^ xor   |\n",
    "\n",
    "**Tabla de Valores**\n",
    "\n",
    "| and | False | True  |\n",
    "|-----|-------|-------|\n",
    "|False| False | False |\n",
    "|True | False | True  |\n",
    "\n",
    "|  or | False | True  |\n",
    "|-----|-------|-------|\n",
    "|False| False | True  |\n",
    "|True | True  | True  |\n",
    "\n",
    "| not |       |\n",
    "|-----|-------|\n",
    "|False| Ture  |\n",
    "|True | False |\n",
    "\n",
    "| xor | False | True  |\n",
    "|-----|-------|-------|\n",
    "|False| False | True  |\n",
    "|True | True  | False |"
   ]
  },
  {
   "cell_type": "markdown",
   "metadata": {},
   "source": [
    "**Ejemplo 2:** Solicitar al usuario que ingrese valores lógicos aplicar los operadores lógicos"
   ]
  },
  {
   "cell_type": "code",
   "execution_count": 7,
   "metadata": {},
   "outputs": [
    {
     "name": "stdin",
     "output_type": "stream",
     "text": [
      "Ingrese 0 (Falso) o 1 (Verdadero) : 1\n",
      "Ingrese 0 (Falso) o 1 (Verdadero) : 1\n"
     ]
    },
    {
     "name": "stdout",
     "output_type": "stream",
     "text": [
      "p = True  not p =  False\n",
      "q = True  not q =  False\n",
      "True  and  True  es  True\n",
      "True  or  True  es  True\n",
      "True  xor  True  es  False\n"
     ]
    }
   ],
   "source": [
    "p = bool(int(input(\"Ingrese 0 (Falso) o 1 (Verdadero) :\")))\n",
    "q = bool(int(input(\"Ingrese 0 (Falso) o 1 (Verdadero) :\")))\n",
    "print(\"p =\",p, \" not p = \", not p)\n",
    "print(\"q =\",q, \" not q = \", not q)\n",
    "print(p,\" and \", q, \" es \", p and q)\n",
    "print(p,\" or \", q, \" es \", p or q)\n",
    "print(p,\" xor \", q, \" es \", p ^ q)"
   ]
  },
  {
   "cell_type": "markdown",
   "metadata": {},
   "source": [
    "**Ejercicio 2:** Determinar el valor de verdad de ***(p and q) or (not p and q)*** para p y q ingresados por el usuario"
   ]
  },
  {
   "cell_type": "code",
   "execution_count": 11,
   "metadata": {},
   "outputs": [
    {
     "name": "stdin",
     "output_type": "stream",
     "text": [
      "Ingrese 0 (Falso) o 1 (Verdadero) : 0\n",
      "Ingrese 0 (Falso) o 1 (Verdadero) : 1\n"
     ]
    },
    {
     "name": "stdout",
     "output_type": "stream",
     "text": [
      "-> True\n"
     ]
    }
   ],
   "source": [
    "p = bool(int(input(\"Ingrese 0 (Falso) o 1 (Verdadero) :\")))\n",
    "q = bool(int(input(\"Ingrese 0 (Falso) o 1 (Verdadero) :\")))\n",
    "\n",
    "print(\"-> \" + str((p and q) or (not p and q)))"
   ]
  },
  {
   "cell_type": "markdown",
   "metadata": {},
   "source": [
    "## 2. Estructuras de Control\n",
    "\n",
    "Una estructira de control es un bloque de código que permite agrupar instrucciones.\n",
    "\n",
    "Se tiene dos tipos de estructuras de control:\n",
    "- Estructuras de control condicionales\n",
    "- Estructuras de control iterativas\n",
    "\n",
    "En python, los bloques de código se identifican con la **identación** que consiste en 4 espacios en blanco. Esta identación indicará que las instrucciones forman parte de una misma estructura de control.\n",
    "\n",
    "La estructura de control tiene la siguiente forma"
   ]
  },
  {
   "cell_type": "raw",
   "metadata": {},
   "source": [
    "estructura_control condicion:\n",
    "    expresiones"
   ]
  },
  {
   "cell_type": "markdown",
   "metadata": {},
   "source": [
    "### 2.1 Estructuras de control condicionales\n",
    "\n",
    "Las estructuras de control condicionales son aquellas que permiten evaluar evaluar si se cumple una condición y de esta forma decidir qué acción ejecutar."
   ]
  },
  {
   "cell_type": "markdown",
   "metadata": {},
   "source": [
    "La estructura selectiva si entonces permite que el flujo del diagrama siga por un camino específico si se cumple una condición o conjunto de condiciones. Si al evaluar la condición (o condiciones) el resultado es verdadero, entonces se ejecuta (n) cierta (s) operación (es). Luego continúa con la secuencia normal del diagrama.\n",
    "\n",
    "<img src=\"if-then.jpg\">"
   ]
  },
  {
   "cell_type": "markdown",
   "metadata": {},
   "source": [
    "**Ejemplo 3:** EL costo de inscripción a un curso de verano es de $5000, sin embargo si la persona tiene carnet de estudiante, entonces se le aplica un descuento del 20%. Mostrar el monto total a pagar."
   ]
  },
  {
   "cell_type": "code",
   "execution_count": null,
   "metadata": {},
   "outputs": [],
   "source": [
    "costo_curso = 5000\n",
    "c = input(\"Tiene Ud. Carnet de estudiante? (S/N)\")\n",
    "if c == 'S':\n",
    "    descuento = 5000*0.2\n",
    "    costo_curso = 5000 - descuento\n",
    "print(\"El costo del curso es:\", costo_curso)"
   ]
  },
  {
   "cell_type": "markdown",
   "metadata": {},
   "source": [
    "La estructura selectiva si entonces/sino permite que el flujo del diagrama se bifurque por dos ramas diferentes en el punto de la toma de decisión(es). Si al evaluar la condición (o condiciones) el resultado es verdadero, entonces se sigue por un camino específico y se ejecuta(n) cierta(s) operación(es). SI el resultado es falso entonces se sigue por otro camino y se ejecuta(n) otra(s) operación(es).\n",
    "\n",
    "<img src=\"if-then-else.png\">"
   ]
  },
  {
   "cell_type": "markdown",
   "metadata": {},
   "source": [
    "**Ejemplo 4:** Dada la nota final del estudiante indicar si el estudiante aprobó la asignatura con nota superior o igual a 4.0 o reprobó la asignatura con nota inferior a 4.0"
   ]
  },
  {
   "cell_type": "code",
   "execution_count": null,
   "metadata": {},
   "outputs": [],
   "source": [
    "nota_final = float(input(\"Ingrese Nota Final:\"))\n",
    "if nota_final >= 4.0:\n",
    "    print(\"Es estudiante aprobó la asignatura\")\n",
    "else:\n",
    "    print(\"Es estudiante reaprobó la asignatura\")"
   ]
  },
  {
   "cell_type": "markdown",
   "metadata": {},
   "source": [
    "### 2.2 Estructuras de Control Iterativas o bucles"
   ]
  },
  {
   "cell_type": "markdown",
   "metadata": {},
   "source": [
    "Estructura de control **while**\n",
    "Podemos ver que primero se evalúa la condición. Si ésta resulta falsa, la instrucción termina. Sin embargo, si resulta verdadera el cuerpo se ejecuta, y posteriormente se vuelve a evaluar la condición. Esto se repite efectivamente mientras la condición siga dando un valor de verdadero\n",
    "\n",
    "<img src=\"while.png\">"
   ]
  },
  {
   "cell_type": "markdown",
   "metadata": {},
   "source": [
    "**Ejemplo 5:** Realizar una programa donde el usuario ingresa número enteros hasta que la suma de los números ingresados sea superior a 100"
   ]
  },
  {
   "cell_type": "code",
   "execution_count": null,
   "metadata": {},
   "outputs": [],
   "source": [
    "S = 0\n",
    "while S<=100:\n",
    "    n = int(input(\"Ingrese un número:\"))\n",
    "    S = S + n\n",
    "print('La suma total es ', S)"
   ]
  },
  {
   "cell_type": "markdown",
   "metadata": {},
   "source": [
    "El bucle **for** permite iterar un número definido de veces\n",
    "\n",
    "\n",
    "<img src=\"for.gif\">\n"
   ]
  },
  {
   "cell_type": "markdown",
   "metadata": {},
   "source": [
    "**Ejemplo 6:** Escribir los primeros n números de Fibonacci"
   ]
  },
  {
   "cell_type": "code",
   "execution_count": null,
   "metadata": {},
   "outputs": [],
   "source": [
    "n = int(input(\"Ingrese la cantidad de términos\"))\n",
    "x1 = 1\n",
    "x2 = 1\n",
    "print(\"Término 1: \",x1)\n",
    "if n>=2:\n",
    "    print(\"Término 2: \",x2)\n",
    "for i in range(3,n+1):\n",
    "    temp = x2\n",
    "    x2 = x1 + x2\n",
    "    x1 = temp\n",
    "    print(\"Término\",i,\": \",x2)"
   ]
  },
  {
   "cell_type": "markdown",
   "metadata": {},
   "source": [
    "## Gráficos"
   ]
  },
  {
   "cell_type": "markdown",
   "metadata": {},
   "source": [
    "**Ejemplo 7:** Graficar las siguientes ecuaciones paramétricas\n",
    "\n",
    "$$x(t) = 16\\sin^3(t)$$\n",
    "\n",
    "$$y(t) = 13\\cos(t) - 5\\cos(2t) - 2\\cos(3t) - cos(4t)$$\n",
    "\n",
    "para $t \\in [0,2\\pi]$"
   ]
  },
  {
   "cell_type": "code",
   "execution_count": null,
   "metadata": {},
   "outputs": [],
   "source": [
    "import matplotlib.pyplot as plt\n",
    "import numpy as np\n",
    "%matplotlib inline"
   ]
  },
  {
   "cell_type": "code",
   "execution_count": null,
   "metadata": {},
   "outputs": [],
   "source": [
    "t = np.arange(0,2*np.pi, 0.1)\n",
    "x = 16*np.sin(t)**3\n",
    "y = 13*np.cos(t)-5*np.cos(2*t)-2*np.cos(3*t)-np.cos(4*t)\n",
    "plt.plot(x,y)"
   ]
  },
  {
   "cell_type": "markdown",
   "metadata": {},
   "source": [
    "# Referencias\n",
    "- https://uniwebsidad.com/libros/python/capitulo-2/estructuras-de-control-de-flujo\n",
    "- http://www.uacj.mx/CGTI/CDTE/JPM/Documents/IIT/selectivas/selectiva-doble-si-entoncessino.html\n",
    "- Cairó, O. (2005). Metodología de la programación. Algoritmos, diagramas de flujo y programas. 3ª. Edición. México: Alfaomega."
   ]
  }
 ],
 "metadata": {
  "kernelspec": {
   "display_name": "Python 3",
   "language": "python",
   "name": "python3"
  },
  "language_info": {
   "codemirror_mode": {
    "name": "ipython",
    "version": 3
   },
   "file_extension": ".py",
   "mimetype": "text/x-python",
   "name": "python",
   "nbconvert_exporter": "python",
   "pygments_lexer": "ipython3",
   "version": "3.7.4"
  }
 },
 "nbformat": 4,
 "nbformat_minor": 4
}
