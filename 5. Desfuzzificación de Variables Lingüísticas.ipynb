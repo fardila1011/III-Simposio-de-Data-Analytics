{
 "cells": [
  {
   "cell_type": "markdown",
   "metadata": {},
   "source": [
    "# 5. Desfuzzificación de Variables Lingüísticas\n",
    "\n",
    "\n",
    "- Autor: Rodrigo Salas, Dr. Ing.\n",
    "- email: rodrigo.salas@uv.cl\n",
    "\n",
    "En este notebook exploraremos el toolbox de SciKit-Fuzzy. Este documento está basado en la guía de usuario publicada:\n",
    "\n",
    "https://pythonhosted.org/scikit-fuzzy/userguide/getting_started.html\n",
    "\n",
    "Revisar la licencia de los códigos en:\n",
    "\n",
    "https://pythonhosted.org/scikit-fuzzy/license.html"
   ]
  },
  {
   "cell_type": "code",
   "execution_count": null,
   "metadata": {},
   "outputs": [],
   "source": [
    "import numpy as np\n",
    "import matplotlib.pyplot as plt\n",
    "import skfuzzy as fuzz\n",
    "from skfuzzy import control as ctrl\n",
    "\n",
    "%matplotlib inline"
   ]
  },
  {
   "cell_type": "markdown",
   "metadata": {},
   "source": [
    "## 5.1. Generar una función trapezoidal en el rango [0,1]"
   ]
  },
  {
   "cell_type": "code",
   "execution_count": null,
   "metadata": {},
   "outputs": [],
   "source": [
    "x = np.arange(0, 5.05, 0.1)\n",
    "mfx = fuzz.trapmf(x, [2, 2.5, 3, 4.5])"
   ]
  },
  {
   "cell_type": "markdown",
   "metadata": {},
   "source": [
    "## 5.2. Desfuzzificar la función de membresía de 5 formas"
   ]
  },
  {
   "cell_type": "code",
   "execution_count": null,
   "metadata": {},
   "outputs": [],
   "source": [
    "defuzz_centroid = fuzz.defuzz(x, mfx, 'centroid')\n",
    "defuzz_bisector = fuzz.defuzz(x, mfx, 'bisector')\n",
    "defuzz_mom = fuzz.defuzz(x, mfx, 'mom')\n",
    "defuzz_som = fuzz.defuzz(x, mfx, 'som')\n",
    "defuzz_lom = fuzz.defuzz(x, mfx, 'lom')"
   ]
  },
  {
   "cell_type": "markdown",
   "metadata": {},
   "source": [
    "## 5.3. Obtener la información para graficar las líneas verticales"
   ]
  },
  {
   "cell_type": "code",
   "execution_count": null,
   "metadata": {},
   "outputs": [],
   "source": [
    "xvals = [defuzz_centroid,\n",
    "         defuzz_bisector,\n",
    "         defuzz_mom,\n",
    "         defuzz_som,\n",
    "         defuzz_lom]\n",
    "\n",
    "ymax = [fuzz.interp_membership(x, mfx, i) for i in xvals]"
   ]
  },
  {
   "cell_type": "markdown",
   "metadata": {},
   "source": [
    "## 5.4. Visualización de los resultados de desfuzzificación"
   ]
  },
  {
   "cell_type": "code",
   "execution_count": null,
   "metadata": {},
   "outputs": [],
   "source": [
    "labels = ['centroide', 'bisector', 'promedio del maximo', 'mínimo del máximo',\n",
    "          'máximo del mínimo']\n",
    "colors = ['r', 'b', 'g', 'c', 'm']\n",
    "\n",
    "plt.figure(figsize=(8, 5))\n",
    "\n",
    "plt.plot(x, mfx, 'k')\n",
    "for xv, y, label, color in zip(xvals, ymax, labels, colors):\n",
    "    plt.vlines(xv, 0, y, label=label, color=color)\n",
    "plt.ylabel('Función de membresía difuso')\n",
    "plt.xlabel('Variable')\n",
    "plt.ylim(-0.1, 1.1)\n",
    "plt.legend(loc=2)\n",
    "\n",
    "plt.show()"
   ]
  }
 ],
 "metadata": {
  "kernelspec": {
   "display_name": "Python 3",
   "language": "python",
   "name": "python3"
  },
  "language_info": {
   "codemirror_mode": {
    "name": "ipython",
    "version": 3
   },
   "file_extension": ".py",
   "mimetype": "text/x-python",
   "name": "python",
   "nbconvert_exporter": "python",
   "pygments_lexer": "ipython3",
   "version": "3.6.9"
  }
 },
 "nbformat": 4,
 "nbformat_minor": 2
}
